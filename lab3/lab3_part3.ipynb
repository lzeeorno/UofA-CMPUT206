{
  "nbformat": 4,
  "nbformat_minor": 0,
  "metadata": {
    "colab": {
      "name": "lab3_part3.ipynb",
      "version": "0.3.2",
      "provenance": [],
      "collapsed_sections": []
    },
    "kernelspec": {
      "name": "python3",
      "display_name": "Python 3"
    },
    "accelerator": "GPU"
  },
  "cells": [
    {
      "metadata": {
        "id": "kCLloaszg7SO",
        "colab_type": "code",
        "colab": {}
      },
      "cell_type": "code",
      "source": [
        "from google.colab import drive\n",
        "\n",
        "drive.mount('/content/gdrive')"
      ],
      "execution_count": 0,
      "outputs": []
    },
    {
      "metadata": {
        "id": "nzGuekyKhHEj",
        "colab_type": "code",
        "colab": {}
      },
      "cell_type": "code",
      "source": [
        "!ls '/content/gdrive/My Drive/CMPUT 206 Wi19/Lab3_Files/'\n",
        "filename_ex1 = '/content/gdrive/My Drive/CMPUT 206 Wi19/Lab3_Files/ex1.jpg'\n",
        "filename_ex2 = '/content/gdrive/My Drive/CMPUT 206 Wi19/Lab3_Files/ex2.jpg'"
      ],
      "execution_count": 0,
      "outputs": []
    },
    {
      "metadata": {
        "id": "ZogjZrmphJMK",
        "colab_type": "code",
        "colab": {}
      },
      "cell_type": "code",
      "source": [
        "#Your Code Here\n",
        "import skimage\n",
        "from skimage import io,img_as_ubyte\n",
        "import numpy as np\n",
        "import math\n",
        "import matplotlib.pyplot as plt  \n",
        "import cv2\n",
        "\n",
        "img = io.imread('/content/gdrive/My Drive/CMPUT 206 Wi19/Lab3_Files/ex1.jpg',as_grey=True)\n",
        "io.imshow(img)"
      ],
      "execution_count": 0,
      "outputs": []
    },
    {
      "metadata": {
        "id": "s639eLcohLea",
        "colab_type": "code",
        "colab": {}
      },
      "cell_type": "code",
      "source": [
        "#Use cv2.GaussianBlur because the kernel of skimage.filters.Gaussian is too small, the blurring effect of cv2.GaussianBlur is much better\n",
        "blurred_img = cv2.GaussianBlur(img, (7, 7), 3)\n",
        "io.imshow(blurred_img)"
      ],
      "execution_count": 0,
      "outputs": []
    },
    {
      "metadata": {
        "id": "D1HcmWqChOiQ",
        "colab_type": "code",
        "colab": {}
      },
      "cell_type": "code",
      "source": [
        "x = int(input(\"Enter your x coordinate: \"))\n",
        "y = int(input(\"Enter your y coordinate: \"))\n",
        "sigma = float(input(\"Enter your sigma coordinate: \"))"
      ],
      "execution_count": 0,
      "outputs": []
    },
    {
      "metadata": {
        "id": "y-s3_MX_pBaR",
        "colab_type": "code",
        "colab": {}
      },
      "cell_type": "code",
      "source": [
        "#your code here\n",
        "import cv2\n",
        "import numpy as np\n",
        "import math\n",
        "import skimage\n",
        "from skimage import io,img_as_ubyte\n",
        "import numpy as np\n",
        "\n",
        "\n",
        "img = cv2.imread(filename_ex1, 0)\n",
        "blurred_img = np.copy(img)\n",
        "\n",
        "def userinput():\n",
        "  #user input\n",
        "  x = int(input(\"Enter your x coordinate: \"))\n",
        "  y = int(input(\"Enter your y coordinate: \"))\n",
        "  sigma = float(input(\"Enter your sigma coordinate: \"))\n",
        "\n",
        "  \n",
        "def getdimension():\n",
        "  img_height = img.shape[0]\n",
        "  img_width = img.shape[1]\n",
        "\n",
        "  kernel_width = (2*img_width)+1\n",
        "  kernel_height = (2*img_height)+1\n",
        "\n",
        "  gaussian_kernel = np.zeros((kernel_height, kernel_width))\n",
        "  cauchy_kernel = np.zeros((kernel_height, kernel_width))\n",
        "\n",
        "\n",
        "\n",
        "def initGaussianKernel():\n",
        "    print( 'Initializing Gaussian Mask...') \n",
        "    for x in range(kernel_width):\n",
        "        for y in range(kernel_height):\n",
        "            diff_x = float(img_width - x)\n",
        "            diff_y = float(img_height - y)\n",
        "            exp_factor = (np.power(diff_x,2) + np.power(diff_y,2)) / (np.power(sigma,2))\n",
        "            gaussian_kernel[y, x] = math.exp(-exp_factor)\n",
        "\n",
        "\n",
        "def initCauchyKernel():\n",
        "    print('Initializing Cauchy Mask...')\n",
        "    for x in range(kernel_width):\n",
        "        for y in range(kernel_height):\n",
        "            diff_x = float(img_width - x)\n",
        "            diff_y = float(img_height - y)\n",
        "            factor = (np.power(diff_x,2) + np.power(diff_y,2)) / (np.power(sigma,2))\n",
        "            cauchy_kernel[y, x] = 1 / (1 + factor)\n",
        "def main():\n",
        "  userinput()\n",
        "  getdimension()\n",
        "  \n",
        "  initGaussianKernel()\n",
        "  initCauchyKernel()\n",
        "  #must define global, otherwise raise a local variable problem\n",
        "  global blurred_img\n",
        "  blurred_img = cv2.GaussianBlur(blurred_img, (7, 7), 3)\n",
        "  \n",
        "  # compute the x and y extents of the mask to extract\n",
        "  x1 = img_width - x\n",
        "  y1 = img_height - y\n",
        "  x2 = x1 + img_width\n",
        "  y2 = y1 + img_height\n",
        "\n",
        "  \n",
        "  # extract the translated mask from the filter\n",
        "  mask1 = gaussian_kernel[y1:y2, x1:x2]\n",
        "  mask2 = cauchy_kernel[y1:y2, x1:x2]\n",
        "  \n",
        "  # the final result of gaussian\n",
        "  img1 = np.multiply(blurred_img, mask1)\n",
        "  img2 = np.multiply(current_img, 1-mask1)\n",
        "  gas_img = cv2.add(img1, img2).astype(np.uint8)\n",
        "  \n",
        "  #the final result of cauchy\n",
        "  img3 = np.multiply(blurred_img, mask2)\n",
        "  img4 = np.multiply(current_img, 1-mask2)\n",
        "  cau_img = cv2.add(img1, img2).astype(np.uint8)\n",
        "\n",
        "  # plot the result\n",
        "  fig, (ax1,ax2) = plt.subplots(1,2,figsize=(14, 6))\n",
        "  ax1.set_title('Gaussian')\n",
        "  ax1.imshow(gas_img,cmap=plt.cm.gray)\n",
        "  ax2.set_title('Cauchy')\n",
        "  ax2.imshow(cau_img,cmap=plt.cm.gray)\n",
        "  #plt.imshow(gas_img,'gray'), plt.title('Gaussian')  \n",
        "  #plt.imshow(cau_img,'gray'), plt.title('Cauchy')\n",
        "  plt.show()\n",
        "\n",
        "if __name__ ==\"__main__\":\n",
        "  main()\n",
        "\n",
        "\n",
        "\n",
        "\n"
      ],
      "execution_count": 0,
      "outputs": []
    }
  ]
}